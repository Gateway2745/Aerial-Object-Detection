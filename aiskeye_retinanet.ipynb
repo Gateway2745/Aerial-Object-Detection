{
 "cells": [
  {
   "cell_type": "code",
   "execution_count": 1,
   "metadata": {},
   "outputs": [
    {
     "name": "stdout",
     "output_type": "stream",
     "text": [
      "1.14.0\n"
     ]
    }
   ],
   "source": [
    "import tensorflow as tf\n",
    "print(tf.__version__)"
   ]
  },
  {
   "cell_type": "code",
   "execution_count": 11,
   "metadata": {},
   "outputs": [],
   "source": [
    "import os"
   ]
  },
  {
   "cell_type": "code",
   "execution_count": 2,
   "metadata": {},
   "outputs": [
    {
     "name": "stdout",
     "output_type": "stream",
     "text": [
      "aiskyeye_dataset  examples.desktop  Untitled.ipynb\n",
      "/home/user1\n"
     ]
    }
   ],
   "source": [
    "!ls\n",
    "!pwd"
   ]
  },
  {
   "cell_type": "code",
   "execution_count": 16,
   "metadata": {},
   "outputs": [
    {
     "name": "stdout",
     "output_type": "stream",
     "text": [
      "Collecting package metadata (current_repodata.json): done\n",
      "Solving environment: failed with initial frozen solve. Retrying with flexible solve.\n",
      "Collecting package metadata (repodata.json): done\n",
      "Solving environment: failed with initial frozen solve. Retrying with flexible solve.\n",
      "\n",
      "PackagesNotFoundError: The following packages are not available from current channels:\n",
      "\n",
      "  - tree\n",
      "\n",
      "Current channels:\n",
      "\n",
      "  - https://repo.anaconda.com/pkgs/main/linux-64\n",
      "  - https://repo.anaconda.com/pkgs/main/noarch\n",
      "  - https://repo.anaconda.com/pkgs/r/linux-64\n",
      "  - https://repo.anaconda.com/pkgs/r/noarch\n",
      "\n",
      "To search for alternate channels that may provide the conda package you're\n",
      "looking for, navigate to\n",
      "\n",
      "    https://anaconda.org\n",
      "\n",
      "and use the search bar at the top of the page.\n",
      "\n",
      "\n"
     ]
    }
   ],
   "source": [
    "!conda install tree"
   ]
  },
  {
   "cell_type": "code",
   "execution_count": 13,
   "metadata": {},
   "outputs": [
    {
     "name": "stdout",
     "output_type": "stream",
     "text": [
      "/bin/sh: 1: tree: not found\r\n"
     ]
    }
   ],
   "source": [
    "\n",
    "!tree -d /home/user1/"
   ]
  },
  {
   "cell_type": "code",
   "execution_count": 5,
   "metadata": {},
   "outputs": [],
   "source": [
    "!cd aiskyeye_dataset/"
   ]
  },
  {
   "cell_type": "code",
   "execution_count": 9,
   "metadata": {},
   "outputs": [
    {
     "name": "stdout",
     "output_type": "stream",
     "text": [
      "[Errno 2] No such file or directory: 'aiskyeye_dataset/'\n",
      "/home/user1/aiskyeye_dataset\n",
      "VisDrone2019-DET-test-challenge  VisDrone2019-DET-train  VisDrone2019-DET-val\r\n"
     ]
    }
   ],
   "source": [
    "%cd aiskyeye_dataset/\n"
   ]
  },
  {
   "cell_type": "code",
   "execution_count": 10,
   "metadata": {},
   "outputs": [
    {
     "name": "stdout",
     "output_type": "stream",
     "text": [
      "VisDrone2019-DET-test-challenge  VisDrone2019-DET-train  VisDrone2019-DET-val\r\n"
     ]
    }
   ],
   "source": [
    "!cd "
   ]
  },
  {
   "cell_type": "code",
   "execution_count": 25,
   "metadata": {},
   "outputs": [],
   "source": [
    "base_dir = '/home/user1/aiskyeye_dataset/'\n",
    "train_base_dir = os.path.join(base_dir, 'VisDrone2019-DET-train')\n",
    "train_images = os.path.join(train_base_dir, 'images')\n",
    "train_annotations = os.path.join(train_base_dir, 'annotations')\n",
    "val_base_dir = os.path.join(base_dir, 'VisDrone2019-DET-val')\n",
    "val_images = os.path.join(val_base_dir, 'images')\n",
    "val_annotations = os.path.join(val_base_dir, 'annotations')\n",
    "test_dir = os.path.join(base_dir, 'VisDrone2019-DET-test-challenge')\n",
    "test_images = os.path.join(test_dir, 'images')"
   ]
  },
  {
   "cell_type": "code",
   "execution_count": 26,
   "metadata": {},
   "outputs": [
    {
     "data": {
      "text/plain": [
       "['9999953_00000_d_0000019.txt',\n",
       " '9999998_00282_d_0000235.txt',\n",
       " '9999956_00000_d_0000113.txt',\n",
       " '9999942_00000_d_0000226.txt',\n",
       " '9999966_00000_d_0000091.txt']"
      ]
     },
     "execution_count": 26,
     "metadata": {},
     "output_type": "execute_result"
    }
   ],
   "source": [
    "train_annotations_list = os.listdir(train_annotations)\n",
    "val_annotations_list = os.listdir(val_annotations)\n",
    "train_images_list = os.listdir(train_images)\n",
    "val_images_list = os.listdir(val_images)\n",
    "test_images_list = os.listdir(test_images)\n",
    "\n",
    "train_annotations_list[:5]"
   ]
  },
  {
   "cell_type": "code",
   "execution_count": 27,
   "metadata": {},
   "outputs": [],
   "source": [
    "num_train_images = len(train_images_list)\n",
    "num_val_images = len(val_images_list)\n",
    "num_test_images = len(test_images_list)"
   ]
  },
  {
   "cell_type": "code",
   "execution_count": 30,
   "metadata": {},
   "outputs": [
    {
     "name": "stdout",
     "output_type": "stream",
     "text": [
      "No. of train images: 6471\n",
      "No. of test images: 1580\n",
      "No. of val images: 548\n"
     ]
    }
   ],
   "source": [
    "print(f\"No. of train images: {num_train_images}\")\n",
    "print(f\"No. of test images: {num_test_images}\")\n",
    "print(f\"No. of val images: {num_val_images}\")"
   ]
  },
  {
   "cell_type": "code",
   "execution_count": null,
   "metadata": {},
   "outputs": [],
   "source": []
  }
 ],
 "metadata": {
  "kernelspec": {
   "display_name": "Python 3",
   "language": "python",
   "name": "python3"
  },
  "language_info": {
   "codemirror_mode": {
    "name": "ipython",
    "version": 3
   },
   "file_extension": ".py",
   "mimetype": "text/x-python",
   "name": "python",
   "nbconvert_exporter": "python",
   "pygments_lexer": "ipython3",
   "version": "3.7.4"
  }
 },
 "nbformat": 4,
 "nbformat_minor": 2
}
